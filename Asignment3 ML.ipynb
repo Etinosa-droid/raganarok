{
 "cells": [
  {
   "cell_type": "code",
   "execution_count": 1,
   "id": "ea4ed9a6",
   "metadata": {
    "collapsed": true
   },
   "outputs": [
    {
     "name": "stdout",
     "output_type": "stream",
     "text": [
      "Populating the interactive namespace from numpy and matplotlib\n"
     ]
    }
   ],
   "source": [
    "import os\n",
    "import numpy as np\n",
    "import pandas as pd\n",
    "%pylab inline\n",
    "%config InlineBackend.figure_formats = ['retina']\n",
    "\n",
    "import seaborn as sns\n",
    "sns.set()\n",
    "\n",
    "import matplotlib.pyplot as plt"
   ]
  },
  {
   "cell_type": "code",
   "execution_count": 1,
   "id": "8733d407",
   "metadata": {},
   "outputs": [
    {
     "ename": "NameError",
     "evalue": "name 'pd' is not defined",
     "output_type": "error",
     "traceback": [
      "\u001b[1;31m---------------------------------------------------------------------------\u001b[0m",
      "\u001b[1;31mNameError\u001b[0m                                 Traceback (most recent call last)",
      "\u001b[1;32m<ipython-input-1-da888ab95159>\u001b[0m in \u001b[0;36m<module>\u001b[1;34m\u001b[0m\n\u001b[0;32m      1\u001b[0m \u001b[0mfilepath\u001b[0m \u001b[1;33m=\u001b[0m \u001b[1;34m\"C:/Users/user/Desktop/data/Datasets/Human_Activity_Recognition_Using_Smartphones_Data.csv\"\u001b[0m\u001b[1;33m\u001b[0m\u001b[1;33m\u001b[0m\u001b[0m\n\u001b[1;32m----> 2\u001b[1;33m \u001b[0mdata\u001b[0m \u001b[1;33m=\u001b[0m \u001b[0mpd\u001b[0m\u001b[1;33m.\u001b[0m\u001b[0mread_csv\u001b[0m\u001b[1;33m(\u001b[0m\u001b[0mfilepath\u001b[0m\u001b[1;33m,\u001b[0m \u001b[0msep\u001b[0m\u001b[1;33m=\u001b[0m\u001b[1;34m','\u001b[0m\u001b[1;33m)\u001b[0m\u001b[1;33m\u001b[0m\u001b[1;33m\u001b[0m\u001b[0m\n\u001b[0m\u001b[0;32m      3\u001b[0m \u001b[0mdata\u001b[0m\u001b[1;33m.\u001b[0m\u001b[0mhead\u001b[0m\u001b[1;33m(\u001b[0m\u001b[1;33m)\u001b[0m\u001b[1;33m\u001b[0m\u001b[1;33m\u001b[0m\u001b[0m\n",
      "\u001b[1;31mNameError\u001b[0m: name 'pd' is not defined"
     ]
    }
   ],
   "source": [
    "filepath = \"C:/Users/user/Desktop/data/Datasets/Human_Activity_Recognition_Using_Smartphones_Data.csv\"\n",
    "data = pd.read_csv(filepath, sep=',')\n",
    "data.head()"
   ]
  },
  {
   "cell_type": "code",
   "execution_count": 3,
   "id": "530b9638",
   "metadata": {
    "collapsed": true
   },
   "outputs": [
    {
     "data": {
      "text/plain": [
       "(10299, 562)"
      ]
     },
     "execution_count": 3,
     "metadata": {},
     "output_type": "execute_result"
    }
   ],
   "source": [
    "data.shape"
   ]
  },
  {
   "cell_type": "code",
   "execution_count": 4,
   "id": "4108798a",
   "metadata": {
    "collapsed": true
   },
   "outputs": [
    {
     "data": {
      "text/plain": [
       "float64    561\n",
       "object       1\n",
       "dtype: int64"
      ]
     },
     "execution_count": 4,
     "metadata": {},
     "output_type": "execute_result"
    }
   ],
   "source": [
    "data.dtypes.value_counts()"
   ]
  },
  {
   "cell_type": "code",
   "execution_count": 5,
   "id": "cf705abf",
   "metadata": {
    "collapsed": true
   },
   "outputs": [
    {
     "name": "stderr",
     "output_type": "stream",
     "text": [
      "<ipython-input-5-7499740ce159>:1: DeprecationWarning: `np.float` is a deprecated alias for the builtin `float`. To silence this warning, use `float` by itself. Doing this will not modify any behavior and is safe. If you specifically wanted the numpy scalar type, use `np.float64` here.\n",
      "Deprecated in NumPy 1.20; for more details and guidance: https://numpy.org/devdocs/release/1.20.0-notes.html#deprecations\n",
      "  float_columns = (data.dtypes == np.float)\n"
     ]
    },
    {
     "name": "stdout",
     "output_type": "stream",
     "text": [
      "True\n",
      "True\n"
     ]
    }
   ],
   "source": [
    "float_columns = (data.dtypes == np.float)\n",
    "\n",
    "print( (data.loc[:,float_columns].max()==1.0).all() )\n",
    "\n",
    "print( (data.loc[:,float_columns].min()==-1.0).all() )"
   ]
  },
  {
   "cell_type": "code",
   "execution_count": 6,
   "id": "601f3112",
   "metadata": {},
   "outputs": [],
   "source": [
    "feature_cols = [x for x in data.columns if x !='Activity']\n"
   ]
  },
  {
   "cell_type": "code",
   "execution_count": 7,
   "id": "8af1c9d5",
   "metadata": {},
   "outputs": [],
   "source": [
    "from sklearn.preprocessing import LabelEncoder\n",
    "\n",
    "le = LabelEncoder()\n",
    "\n",
    "data['Activity'] = le.fit_transform(data['Activity'])\n",
    "\n",
    "y = data.Activity"
   ]
  },
  {
   "cell_type": "code",
   "execution_count": 8,
   "id": "04cedd85",
   "metadata": {
    "collapsed": true
   },
   "outputs": [
    {
     "data": {
      "text/plain": [
       "Index(['fBodyGyro-max()-Z', 'fBodyAcc-max()-Z', 'tBodyGyro-min()-Z',\n",
       "       'tBodyAcc-max()-Z', 'fBodyAccJerk-sma()', 'tBodyGyroMag-max()',\n",
       "       'tBodyAcc-min()-Y', 'tBodyGyroMag-iqr()', 'tBodyAccJerk-sma()',\n",
       "       'tBodyAcc-iqr()-X', 'fBodyBodyGyroMag-std()', 'fBodyGyro-std()-X',\n",
       "       'fBodyAcc-mean()-Z', 'fBodyAccJerk-std()-X', 'tBodyAccJerkMag-sma()',\n",
       "       'tBodyAccJerkMag-mean()', 'tBodyGyroMag-std()', 'fBodyAccJerk-mad()-X',\n",
       "       'tBodyAccJerk-min()-X', 'tBodyAccJerk-iqr()-X', 'tBodyGyro-mad()-X',\n",
       "       'fBodyAccJerk-mean()-X', 'tBodyGyroJerk-entropy()-Y',\n",
       "       'tBodyAccJerk-std()-X', 'fBodyGyro-mean()-X', 'tBodyGyroMag-mad()',\n",
       "       'tBodyAccJerk-mad()-X', 'fBodyAccMag-iqr()', 'tBodyGyro-std()-X',\n",
       "       'fBodyGyro-mad()-X', 'fBodyBodyGyroMag-mad()', 'tGravityAccMag-mad()',\n",
       "       'tBodyAccMag-mad()', 'fBodyAccMag-sma()', 'fBodyAccMag-mean()',\n",
       "       'fBodyAccMag-std()', 'tBodyAcc-max()-Y', 'fBodyGyro-sma()',\n",
       "       'tBodyAccMag-std()', 'tGravityAccMag-std()', 'fBodyGyro-entropy()-Y',\n",
       "       'tBodyAcc-iqr()-Z', 'tBodyAcc-min()-X', 'fBodyAcc-mad()-Z',\n",
       "       'tBodyGyro-iqr()-Z', 'fBodyAcc-max()-X', 'fBodyGyro-mean()-Z',\n",
       "       'fBodyAcc-mean()-Y', 'fBodyBodyGyroJerkMag-entropy()',\n",
       "       'fBodyBodyGyroMag-entropy()', 'fBodyAccMag-mad()', 'fBodyAcc-max()-Y',\n",
       "       'fBodyAcc-mean()-X', 'tBodyAcc-std()-Z', 'fBodyAcc-std()-Z',\n",
       "       'tBodyAcc-mad()-X', 'fBodyGyro-std()-Z', 'tBodyAcc-mad()-Z',\n",
       "       'tGravityAccMag-max()', 'tBodyAccMag-max()',\n",
       "       'tBodyGyroJerkMag-entropy()', 'fBodyGyro-mad()-Z',\n",
       "       'tGravityAccMag-entropy()', 'tBodyAccMag-entropy()', 'tBodyAcc-iqr()-Y',\n",
       "       'fBodyAccJerk-entropy()-Z', 'fBodyAcc-mad()-X', 'tBodyGyro-std()-Z',\n",
       "       'fBodyAcc-mad()-Y', 'tBodyGyro-mad()-Z', 'fBodyAcc-std()-X',\n",
       "       'tBodyAcc-std()-X', 'tBodyGyroJerk-entropy()-X', 'fBodyAcc-sma()',\n",
       "       'fBodyGyro-entropy()-X', 'fBodyAcc-entropy()-Z', 'tBodyAcc-std()-Y',\n",
       "       'tBodyAcc-mad()-Y', 'tBodyAcc-max()-X', 'tBodyAccJerk-entropy()-Z',\n",
       "       'fBodyGyro-entropy()-Z', 'fBodyAcc-std()-Y', 'fBodyAcc-entropy()-X',\n",
       "       'tBodyGyroMag-mean()', 'tBodyGyroMag-sma()', 'tBodyGyro-sma()',\n",
       "       'tBodyAccJerk-entropy()-X', 'fBodyBodyAccJerkMag-entropy()',\n",
       "       'fBodyAccJerk-entropy()-Y', 'fBodyAcc-entropy()-Y', 'tBodyAccMag-sma()',\n",
       "       'tGravityAccMag-sma()', 'tBodyAccMag-mean()', 'tGravityAccMag-mean()',\n",
       "       'fBodyAccMag-entropy()', 'tBodyAcc-sma()', 'tBodyAccJerkMag-entropy()',\n",
       "       'tBodyAccJerk-entropy()-Y', 'fBodyAccJerk-entropy()-X',\n",
       "       'tBodyGyroJerk-entropy()-Z'],\n",
       "      dtype='object')"
      ]
     },
     "execution_count": 8,
     "metadata": {},
     "output_type": "execute_result"
    }
   ],
   "source": [
    "correlations = data[feature_cols].corrwith(y)\n",
    "correlations.sort_values(inplace=True)\n",
    "feature_cols = correlations.map(abs).sort_values().iloc[-100:].index\n",
    "feature_cols"
   ]
  },
  {
   "cell_type": "code",
   "execution_count": 9,
   "id": "9b39ceb5",
   "metadata": {
    "collapsed": true
   },
   "outputs": [
    {
     "data": {
      "text/plain": [
       "0    1944\n",
       "2    1906\n",
       "1    1777\n",
       "3    1722\n",
       "5    1544\n",
       "4    1406\n",
       "Name: Activity, dtype: int64"
      ]
     },
     "execution_count": 9,
     "metadata": {},
     "output_type": "execute_result"
    }
   ],
   "source": [
    "x = data[feature_cols]\n",
    "y.value_counts()"
   ]
  },
  {
   "cell_type": "code",
   "execution_count": 10,
   "id": "c8bc75f0",
   "metadata": {},
   "outputs": [],
   "source": [
    "from sklearn.model_selection import StratifiedShuffleSplit\n",
    "\n",
    "strat_shuf_split = StratifiedShuffleSplit(n_splits=2, \n",
    "                                          test_size=0.3, \n",
    "                                          random_state=420)\n",
    "\n",
    "train_idx, test_idx = next(strat_shuf_split.split(x, y))\n",
    "\n",
    "X_train = data.loc[train_idx, feature_cols]\n",
    "y_train = data.loc[train_idx, 'Activity']\n",
    "\n",
    "X_test  = data.loc[test_idx, feature_cols]\n",
    "y_test  = data.loc[test_idx, 'Activity']"
   ]
  },
  {
   "cell_type": "code",
   "execution_count": 11,
   "id": "6250e79f",
   "metadata": {
    "collapsed": true
   },
   "outputs": [
    {
     "name": "stdout",
     "output_type": "stream",
     "text": [
      "0    0.188792\n",
      "2    0.185046\n",
      "1    0.172562\n",
      "3    0.167152\n",
      "5    0.149951\n",
      "4    0.136496\n",
      "Name: Activity, dtype: float64\n",
      "0    0.188673\n",
      "2    0.185113\n",
      "1    0.172492\n",
      "3    0.167314\n",
      "5    0.149838\n",
      "4    0.136570\n",
      "Name: Activity, dtype: float64\n"
     ]
    }
   ],
   "source": [
    "print (y_train.value_counts(normalize=True))\n",
    "print (y_test.value_counts(normalize=True))"
   ]
  },
  {
   "cell_type": "code",
   "execution_count": 12,
   "id": "9710a9be",
   "metadata": {},
   "outputs": [
    {
     "name": "stdout",
     "output_type": "stream",
     "text": [
      "0.8519\n",
      "0.8521\n"
     ]
    }
   ],
   "source": [
    "from sklearn.linear_model import LogisticRegression\n",
    "from sklearn.metrics import accuracy_score, precision_score, recall_score, f1_score\n",
    "\n",
    "# Standard logistic regression\n",
    "lr = LogisticRegression(solver='liblinear').fit(X_train, y_train)\n",
    "y_pred_lr = lr.predict(X_test)\n",
    "\n",
    "print (round (f1_score(y_test, y_pred_lr, average='weighted'), 4))\n",
    "print (round (accuracy_score(y_test, y_pred_lr), 4))"
   ]
  },
  {
   "cell_type": "code",
   "execution_count": 13,
   "id": "74ec0130",
   "metadata": {},
   "outputs": [],
   "source": [
    "from sklearn.neighbors import KNeighborsClassifier\n",
    "\n",
    "max_k = 40\n",
    "f1_scores = list()\n",
    "accuracy_rates = list() \n",
    "\n",
    "for k in range(1, max_k):\n",
    "    \n",
    "    knn = KNeighborsClassifier(n_neighbors=k, weights='distance')\n",
    "    knn = knn.fit(X_train, y_train)\n",
    "    \n",
    "    y_pred_knn = knn.predict(X_test)\n",
    "    f1 = round(f1_score(y_test, y_pred_knn, average='weighted'), 4)\n",
    "    f1_scores.append((k, f1))\n",
    "    accuracy = round(accuracy_score(y_test, y_pred_knn), 4)\n",
    "    accuracy_rates.append((k, accuracy))\n",
    "    \n",
    "scores_results = pd.DataFrame(f1_scores, columns=['K', 'Score'])\n",
    "accuracy_results = pd.DataFrame(accuracy_rates, columns=['K', 'Accuracy Rate'])"
   ]
  },
  {
   "cell_type": "code",
   "execution_count": 14,
   "id": "7d694305",
   "metadata": {},
   "outputs": [
    {
     "data": {
      "text/html": [
       "<div>\n",
       "<style scoped>\n",
       "    .dataframe tbody tr th:only-of-type {\n",
       "        vertical-align: middle;\n",
       "    }\n",
       "\n",
       "    .dataframe tbody tr th {\n",
       "        vertical-align: top;\n",
       "    }\n",
       "\n",
       "    .dataframe thead th {\n",
       "        text-align: right;\n",
       "    }\n",
       "</style>\n",
       "<table border=\"1\" class=\"dataframe\">\n",
       "  <thead>\n",
       "    <tr style=\"text-align: right;\">\n",
       "      <th></th>\n",
       "      <th>K</th>\n",
       "      <th>Score</th>\n",
       "      <th>K</th>\n",
       "      <th>Accuracy Rate</th>\n",
       "    </tr>\n",
       "  </thead>\n",
       "  <tbody>\n",
       "    <tr>\n",
       "      <th>0</th>\n",
       "      <td>1</td>\n",
       "      <td>0.8670</td>\n",
       "      <td>1</td>\n",
       "      <td>0.8667</td>\n",
       "    </tr>\n",
       "    <tr>\n",
       "      <th>1</th>\n",
       "      <td>2</td>\n",
       "      <td>0.8670</td>\n",
       "      <td>2</td>\n",
       "      <td>0.8667</td>\n",
       "    </tr>\n",
       "    <tr>\n",
       "      <th>2</th>\n",
       "      <td>3</td>\n",
       "      <td>0.8724</td>\n",
       "      <td>3</td>\n",
       "      <td>0.8722</td>\n",
       "    </tr>\n",
       "    <tr>\n",
       "      <th>3</th>\n",
       "      <td>4</td>\n",
       "      <td>0.8773</td>\n",
       "      <td>4</td>\n",
       "      <td>0.8770</td>\n",
       "    </tr>\n",
       "    <tr>\n",
       "      <th>4</th>\n",
       "      <td>5</td>\n",
       "      <td>0.8793</td>\n",
       "      <td>5</td>\n",
       "      <td>0.8793</td>\n",
       "    </tr>\n",
       "    <tr>\n",
       "      <th>5</th>\n",
       "      <td>6</td>\n",
       "      <td>0.8879</td>\n",
       "      <td>6</td>\n",
       "      <td>0.8877</td>\n",
       "    </tr>\n",
       "    <tr>\n",
       "      <th>6</th>\n",
       "      <td>7</td>\n",
       "      <td>0.8798</td>\n",
       "      <td>7</td>\n",
       "      <td>0.8796</td>\n",
       "    </tr>\n",
       "    <tr>\n",
       "      <th>7</th>\n",
       "      <td>8</td>\n",
       "      <td>0.8821</td>\n",
       "      <td>8</td>\n",
       "      <td>0.8822</td>\n",
       "    </tr>\n",
       "    <tr>\n",
       "      <th>8</th>\n",
       "      <td>9</td>\n",
       "      <td>0.8834</td>\n",
       "      <td>9</td>\n",
       "      <td>0.8832</td>\n",
       "    </tr>\n",
       "    <tr>\n",
       "      <th>9</th>\n",
       "      <td>10</td>\n",
       "      <td>0.8804</td>\n",
       "      <td>10</td>\n",
       "      <td>0.8803</td>\n",
       "    </tr>\n",
       "    <tr>\n",
       "      <th>10</th>\n",
       "      <td>11</td>\n",
       "      <td>0.8750</td>\n",
       "      <td>11</td>\n",
       "      <td>0.8748</td>\n",
       "    </tr>\n",
       "    <tr>\n",
       "      <th>11</th>\n",
       "      <td>12</td>\n",
       "      <td>0.8762</td>\n",
       "      <td>12</td>\n",
       "      <td>0.8761</td>\n",
       "    </tr>\n",
       "    <tr>\n",
       "      <th>12</th>\n",
       "      <td>13</td>\n",
       "      <td>0.8748</td>\n",
       "      <td>13</td>\n",
       "      <td>0.8744</td>\n",
       "    </tr>\n",
       "    <tr>\n",
       "      <th>13</th>\n",
       "      <td>14</td>\n",
       "      <td>0.8764</td>\n",
       "      <td>14</td>\n",
       "      <td>0.8761</td>\n",
       "    </tr>\n",
       "    <tr>\n",
       "      <th>14</th>\n",
       "      <td>15</td>\n",
       "      <td>0.8755</td>\n",
       "      <td>15</td>\n",
       "      <td>0.8751</td>\n",
       "    </tr>\n",
       "    <tr>\n",
       "      <th>15</th>\n",
       "      <td>16</td>\n",
       "      <td>0.8737</td>\n",
       "      <td>16</td>\n",
       "      <td>0.8735</td>\n",
       "    </tr>\n",
       "    <tr>\n",
       "      <th>16</th>\n",
       "      <td>17</td>\n",
       "      <td>0.8722</td>\n",
       "      <td>17</td>\n",
       "      <td>0.8718</td>\n",
       "    </tr>\n",
       "    <tr>\n",
       "      <th>17</th>\n",
       "      <td>18</td>\n",
       "      <td>0.8702</td>\n",
       "      <td>18</td>\n",
       "      <td>0.8699</td>\n",
       "    </tr>\n",
       "    <tr>\n",
       "      <th>18</th>\n",
       "      <td>19</td>\n",
       "      <td>0.8708</td>\n",
       "      <td>19</td>\n",
       "      <td>0.8706</td>\n",
       "    </tr>\n",
       "    <tr>\n",
       "      <th>19</th>\n",
       "      <td>20</td>\n",
       "      <td>0.8720</td>\n",
       "      <td>20</td>\n",
       "      <td>0.8718</td>\n",
       "    </tr>\n",
       "    <tr>\n",
       "      <th>20</th>\n",
       "      <td>21</td>\n",
       "      <td>0.8726</td>\n",
       "      <td>21</td>\n",
       "      <td>0.8725</td>\n",
       "    </tr>\n",
       "    <tr>\n",
       "      <th>21</th>\n",
       "      <td>22</td>\n",
       "      <td>0.8697</td>\n",
       "      <td>22</td>\n",
       "      <td>0.8696</td>\n",
       "    </tr>\n",
       "    <tr>\n",
       "      <th>22</th>\n",
       "      <td>23</td>\n",
       "      <td>0.8678</td>\n",
       "      <td>23</td>\n",
       "      <td>0.8676</td>\n",
       "    </tr>\n",
       "    <tr>\n",
       "      <th>23</th>\n",
       "      <td>24</td>\n",
       "      <td>0.8674</td>\n",
       "      <td>24</td>\n",
       "      <td>0.8673</td>\n",
       "    </tr>\n",
       "    <tr>\n",
       "      <th>24</th>\n",
       "      <td>25</td>\n",
       "      <td>0.8668</td>\n",
       "      <td>25</td>\n",
       "      <td>0.8667</td>\n",
       "    </tr>\n",
       "    <tr>\n",
       "      <th>25</th>\n",
       "      <td>26</td>\n",
       "      <td>0.8635</td>\n",
       "      <td>26</td>\n",
       "      <td>0.8634</td>\n",
       "    </tr>\n",
       "    <tr>\n",
       "      <th>26</th>\n",
       "      <td>27</td>\n",
       "      <td>0.8657</td>\n",
       "      <td>27</td>\n",
       "      <td>0.8657</td>\n",
       "    </tr>\n",
       "    <tr>\n",
       "      <th>27</th>\n",
       "      <td>28</td>\n",
       "      <td>0.8635</td>\n",
       "      <td>28</td>\n",
       "      <td>0.8634</td>\n",
       "    </tr>\n",
       "    <tr>\n",
       "      <th>28</th>\n",
       "      <td>29</td>\n",
       "      <td>0.8622</td>\n",
       "      <td>29</td>\n",
       "      <td>0.8621</td>\n",
       "    </tr>\n",
       "    <tr>\n",
       "      <th>29</th>\n",
       "      <td>30</td>\n",
       "      <td>0.8623</td>\n",
       "      <td>30</td>\n",
       "      <td>0.8621</td>\n",
       "    </tr>\n",
       "    <tr>\n",
       "      <th>30</th>\n",
       "      <td>31</td>\n",
       "      <td>0.8610</td>\n",
       "      <td>31</td>\n",
       "      <td>0.8608</td>\n",
       "    </tr>\n",
       "    <tr>\n",
       "      <th>31</th>\n",
       "      <td>32</td>\n",
       "      <td>0.8605</td>\n",
       "      <td>32</td>\n",
       "      <td>0.8605</td>\n",
       "    </tr>\n",
       "    <tr>\n",
       "      <th>32</th>\n",
       "      <td>33</td>\n",
       "      <td>0.8605</td>\n",
       "      <td>33</td>\n",
       "      <td>0.8605</td>\n",
       "    </tr>\n",
       "    <tr>\n",
       "      <th>33</th>\n",
       "      <td>34</td>\n",
       "      <td>0.8612</td>\n",
       "      <td>34</td>\n",
       "      <td>0.8612</td>\n",
       "    </tr>\n",
       "    <tr>\n",
       "      <th>34</th>\n",
       "      <td>35</td>\n",
       "      <td>0.8585</td>\n",
       "      <td>35</td>\n",
       "      <td>0.8586</td>\n",
       "    </tr>\n",
       "    <tr>\n",
       "      <th>35</th>\n",
       "      <td>36</td>\n",
       "      <td>0.8610</td>\n",
       "      <td>36</td>\n",
       "      <td>0.8612</td>\n",
       "    </tr>\n",
       "    <tr>\n",
       "      <th>36</th>\n",
       "      <td>37</td>\n",
       "      <td>0.8592</td>\n",
       "      <td>37</td>\n",
       "      <td>0.8592</td>\n",
       "    </tr>\n",
       "    <tr>\n",
       "      <th>37</th>\n",
       "      <td>38</td>\n",
       "      <td>0.8588</td>\n",
       "      <td>38</td>\n",
       "      <td>0.8589</td>\n",
       "    </tr>\n",
       "    <tr>\n",
       "      <th>38</th>\n",
       "      <td>39</td>\n",
       "      <td>0.8581</td>\n",
       "      <td>39</td>\n",
       "      <td>0.8583</td>\n",
       "    </tr>\n",
       "  </tbody>\n",
       "</table>\n",
       "</div>"
      ],
      "text/plain": [
       "     K   Score   K  Accuracy Rate\n",
       "0    1  0.8670   1         0.8667\n",
       "1    2  0.8670   2         0.8667\n",
       "2    3  0.8724   3         0.8722\n",
       "3    4  0.8773   4         0.8770\n",
       "4    5  0.8793   5         0.8793\n",
       "5    6  0.8879   6         0.8877\n",
       "6    7  0.8798   7         0.8796\n",
       "7    8  0.8821   8         0.8822\n",
       "8    9  0.8834   9         0.8832\n",
       "9   10  0.8804  10         0.8803\n",
       "10  11  0.8750  11         0.8748\n",
       "11  12  0.8762  12         0.8761\n",
       "12  13  0.8748  13         0.8744\n",
       "13  14  0.8764  14         0.8761\n",
       "14  15  0.8755  15         0.8751\n",
       "15  16  0.8737  16         0.8735\n",
       "16  17  0.8722  17         0.8718\n",
       "17  18  0.8702  18         0.8699\n",
       "18  19  0.8708  19         0.8706\n",
       "19  20  0.8720  20         0.8718\n",
       "20  21  0.8726  21         0.8725\n",
       "21  22  0.8697  22         0.8696\n",
       "22  23  0.8678  23         0.8676\n",
       "23  24  0.8674  24         0.8673\n",
       "24  25  0.8668  25         0.8667\n",
       "25  26  0.8635  26         0.8634\n",
       "26  27  0.8657  27         0.8657\n",
       "27  28  0.8635  28         0.8634\n",
       "28  29  0.8622  29         0.8621\n",
       "29  30  0.8623  30         0.8621\n",
       "30  31  0.8610  31         0.8608\n",
       "31  32  0.8605  32         0.8605\n",
       "32  33  0.8605  33         0.8605\n",
       "33  34  0.8612  34         0.8612\n",
       "34  35  0.8585  35         0.8586\n",
       "35  36  0.8610  36         0.8612\n",
       "36  37  0.8592  37         0.8592\n",
       "37  38  0.8588  38         0.8589\n",
       "38  39  0.8581  39         0.8583"
      ]
     },
     "execution_count": 14,
     "metadata": {},
     "output_type": "execute_result"
    }
   ],
   "source": [
    "pd.concat([scores_results, accuracy_results], axis=1)"
   ]
  },
  {
   "cell_type": "code",
   "execution_count": 15,
   "id": "22b5275e",
   "metadata": {},
   "outputs": [
    {
     "name": "stdout",
     "output_type": "stream",
     "text": [
      "1221 19\n",
      "871 11\n",
      "0.8203\n",
      "0.8204\n"
     ]
    }
   ],
   "source": [
    "from sklearn.tree import DecisionTreeClassifier\n",
    "\n",
    "dt = DecisionTreeClassifier(random_state=420)\n",
    "dt = dt.fit(X_train, y_train)\n",
    "\n",
    "print (dt.tree_.node_count, dt.tree_.max_depth)\n",
    "\n",
    "from sklearn.model_selection import GridSearchCV\n",
    "\n",
    "param_grid = {'max_depth':range(1, dt.tree_.max_depth+1, 2),\n",
    "              'max_features': range(1, len(dt.feature_importances_)+1)}\n",
    "\n",
    "GR = GridSearchCV(DecisionTreeClassifier(random_state=420),\n",
    "                  param_grid=param_grid,\n",
    "                  scoring='accuracy',\n",
    "                  n_jobs=-1)\n",
    "\n",
    "GR = GR.fit(X_train, y_train)\n",
    "\n",
    "print (GR.best_estimator_.tree_.node_count, GR.best_estimator_.tree_.max_depth)\n",
    "\n",
    "y_pred_dt = GR.predict(X_test)\n",
    "\n",
    "print (round (f1_score(y_test, y_pred_dt, average='weighted'), 4))\n",
    "print (round (accuracy_score(y_test, y_pred_dt), 4))"
   ]
  },
  {
   "cell_type": "code",
   "execution_count": null,
   "id": "cfd691b0",
   "metadata": {},
   "outputs": [],
   "source": []
  }
 ],
 "metadata": {
  "kernelspec": {
   "display_name": "Python 3",
   "language": "python",
   "name": "python3"
  },
  "language_info": {
   "codemirror_mode": {
    "name": "ipython",
    "version": 3
   },
   "file_extension": ".py",
   "mimetype": "text/x-python",
   "name": "python",
   "nbconvert_exporter": "python",
   "pygments_lexer": "ipython3",
   "version": "3.8.8"
  }
 },
 "nbformat": 4,
 "nbformat_minor": 5
}
